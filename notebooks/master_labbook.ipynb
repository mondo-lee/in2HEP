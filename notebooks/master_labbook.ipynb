{
  "nbformat": 4,
  "nbformat_minor": 0,
  "metadata": {
    "colab": {
      "provenance": [],
      "authorship_tag": "ABX9TyO0Gu2Im0LsaePn/YZXtoU+",
      "include_colab_link": true
    },
    "kernelspec": {
      "name": "python3",
      "display_name": "Python 3"
    },
    "language_info": {
      "name": "python"
    }
  },
  "cells": [
    {
      "cell_type": "markdown",
      "metadata": {
        "id": "view-in-github",
        "colab_type": "text"
      },
      "source": [
        "<a href=\"https://colab.research.google.com/github/mondo-lee/in2HEP/blob/master/notebook/master_labbook.ipynb\" target=\"_parent\"><img src=\"https://colab.research.google.com/assets/colab-badge.svg\" alt=\"Open In Colab\"/></a>"
      ]
    },
    {
      "cell_type": "markdown",
      "source": [
        "# PHAS0056 Mini-Project Logbook\n",
        "_Student ID: 22086136_\n",
        "\n",
        "_Last edited: 9 Mar 2025_\n"
      ],
      "metadata": {
        "id": "m9BpVyG0TFbj"
      }
    },
    {
      "cell_type": "markdown",
      "source": [
        "## `08-03-2025 - print(\"Hello World!\")`\n",
        "\n",
        "First of all, happy International Women's Day! The day will have long past by the time you've seen this, but hopefully you've enjoyed it.\n",
        "\n",
        "This is a manner of organising my work so far, which may or may not be temporary:\n",
        "- this is the master logbook, in which all of my finalised code required for the whole project is. Most of the annotation will be in the format of Markdown cells between code, talking about summaries of processes. I will do my best for this document to read and flow as naturally as possible.\n",
        "- the fine details will be placed within separate logbooks, whether it be literature review/background reading or optimisation and tuning. It is likely that this will result in a more... thermodynamically stable layout.\n",
        "\n",
        "At the end of the day, I don't even know if this will be read by anyone else. Maybe it will, maybe it won't, but what's sure is that I'll be able to look back at this one day and hopefully cringe at all the optimisations I will be able to see by then."
      ],
      "metadata": {
        "id": "VforMD5HTQHL"
      }
    },
    {
      "cell_type": "code",
      "execution_count": null,
      "metadata": {
        "id": "zo_H5GzkSSTs"
      },
      "outputs": [],
      "source": []
    }
  ]
}
