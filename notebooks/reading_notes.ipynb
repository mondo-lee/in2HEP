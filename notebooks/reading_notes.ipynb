{
  "nbformat": 4,
  "nbformat_minor": 0,
  "metadata": {
    "colab": {
      "provenance": [],
      "authorship_tag": "ABX9TyPNl9ofM44c7LkVv0DIKSBZ",
      "include_colab_link": true
    },
    "kernelspec": {
      "name": "python3",
      "display_name": "Python 3"
    },
    "language_info": {
      "name": "python"
    }
  },
  "cells": [
    {
      "cell_type": "markdown",
      "metadata": {
        "id": "view-in-github",
        "colab_type": "text"
      },
      "source": [
        "<a href=\"https://colab.research.google.com/github/mondo-lee/in2HEP/blob/master/notebooks/reading_notes.ipynb\" target=\"_parent\"><img src=\"https://colab.research.google.com/assets/colab-badge.svg\" alt=\"Open In Colab\"/></a>"
      ]
    },
    {
      "cell_type": "code",
      "execution_count": null,
      "metadata": {
        "id": "Eb95O-QsVXyY"
      },
      "outputs": [],
      "source": []
    },
    {
      "cell_type": "markdown",
      "source": [
        "# Notes\n",
        "\n",
        "## `08-03-2025`\n",
        "\n",
        "`ATLAS_Hbb_Challenge.ipynb`\n",
        "\n",
        "Though the Higgs predominantly decays to a bottom anti-bottom quark pair ($H\\rightarrow b\\bar{b}$), detection of this channel was made difficult by:\n",
        "- the large background from events such as $g\\rightarrow b\\bar{b}$, and\n",
        "- the extra complication of b-tagging jets.\n",
        "\n",
        "As such, the channels $H \\rightarrow \\gamma\\gamma$ and $H \\rightarrow ZZ \\rightarrow 4l$ were used instead, with clear signatures and an excess of events over background processes.\n",
        "\n",
        "The process that we will focus on is the WH 1-Lepton channel:\n",
        "\n",
        "<img src=\"https://github.com/mondo-lee/in2HEP/blob/master/notebooks/images/one-lepton.png?raw=1\" width=\"350\">\n",
        "\n",
        "The final state products and their characterisations are:\n",
        "\n",
        "|Particle|Characterisation|\n",
        "|-|-|\n",
        "|1 charged lepton ($e^{\\pm}$ or $\\mu^{\\pm}$) |Transverse momentum, direction|\n",
        "|1 neutrino ($\\nu_\\ell$ or $\\bar{\\nu}_\\ell$)|Missing transverse energy|\n",
        "|2 $b$-jets|Transverse momentum, direction, distance between them, their reconstructed mass.|\n",
        "\n",
        "Throughout the challenge we aim to:\n",
        "- draw a non-NN benchmark using a series of cuts,\n",
        "- through the use of machine learning, produce a model which (hopefully) yields a greater sensitivity (see below).\n",
        "\n",
        "The key metric is signal sensitivity, covered in a helper function within `ucl_masterclass.py`, which determines the likelihood that a process of interest is observed given $s$ signal events and $b$ background events:\n",
        "$$\\sqrt{2\\left((s+b)\\ln{\\left(1+\\frac{s}{b}\\right)-s}\\right)}$$\n",
        "\n",
        "Elaboration is found [here](https://www.pp.rhul.ac.uk/~cowan/atlas/cowan_atlas_15feb11.pdf) in Professor G. Cowan's 2016 Seminar at the MPI Particle Physics Colloquium. For general reference, the basic logic follows a profile likelihood ratio test with known nuisance parameter ($b$) and using the Asimov dataset [\"(i.e. the one data set in which all observed quantities are set equal to their expected values)\"](https://indico.cern.ch/event/74940/contributions/2088584/attachments/1047729/1493442/Wald-Asimov.pdf) to obtain the median significance.\n",
        "\n",
        "For $s<<b$ (which hopefully isn't too true), this reduces to the more familiar $s/\\sqrt{b}$.\n",
        "\n",
        "Care should be taken to:\n",
        "- determine:\n",
        "  - pre-processing of input variables,\n",
        "  - number of nodes,\n",
        "  - number of layers,\n",
        "  - training hyperparameters,\n",
        "  - activation functions,\n",
        "  - optimisation algorithms, and\n",
        "  - loss function\n",
        "- report:\n",
        "  - improvement over cut-based approach\n",
        "  - if the train set is sufficient (seeing if metrics plateau as the train set is expanded)\n",
        "  - retraining the network and removing one input variable at a time.\n",
        "\n",
        "Suggested extensions include:\n",
        "- investigate events selected in most high NN-output region, and whether they're similar to those in the cut-based approach\n",
        "- determine training uncertainty (retraining and looking at variance of performance)\n",
        "- adding noise to certain input features\n",
        "- comparing hyperparameter optimisation algorithms (Bayesian, stochastic, grid, etc.)\n",
        "- training a multi-classifier or MVA cascade for the different backgrounds.\n",
        "\n",
        "The list of possible variables to use as input features, as copied from the notebook are:\n",
        "\n",
        "| Variable        | Description           | Label  |\n",
        "| ------------- |:-------------:| -----:|\n",
        "|$n_J$                   | Number of jet in the event (always 2 in this exercise) | nJ |\n",
        "|$n_{\\text{Tags}}$       | Number of b-tagged jets in the event (always two in this exercise) | nTags |\n",
        "|$\\Delta R(b_1b_2)$      | Angular distance between the two *b*-tagged jets | dRBB |\n",
        "| $p_T^B1$              | Reconstructed transverse momentum of the b-tagged jet with the highest $p_{T}$                      | pTB1 |\n",
        "| $p_T^B2$               | Reconstructed transverse momentum of the b-tagged jet with the 2nd highest $p_{T}$                      | pTB2 |\n",
        "| $p_T^V$                | Reconstructed transverse momentum of the vector boson                      | pTV |\n",
        "| $m_{BB}$               | Reconstructed mass of the Higgs boson from the two b-tagged jets                     | mBB |\n",
        "| $m_{top}$              | Reconstructed top quark mass                     | Mtop |\n",
        "| $m_{T}^{W}$              | Reconstructed transverse mass of the W boson                     | mTW |\n",
        "| $E^{Miss}_{T}$         | Missing transverse energy                        | MET |\n",
        "| $m^{W}_{T}$            | Reconstructed transverse mass of the W boson                        | mTW |\n",
        "| $dY(W,H)$             | Separation between the W boson and the Higgs candidate                        | dYWH |\n",
        "| $d\\phi(W,H)$          | Angular seperation in the transverse plane between the W boson and the Higgs candidate                        | dPhiVBB |\n",
        "| $MV1^{B1}_\\text{cont}$        | Classification output of whether the leading jet is a b (the higher the value, the likelier) | MV1cB1_cont |\n",
        "| $MV1^{B2}_{\\text{cont}}$        | Classification output of whether the sub-leading jet is a b or not (the higher the value, the likelier) | MV1cB2_cont |"
      ],
      "metadata": {
        "id": "z60sSU7uVY_Z"
      }
    },
    {
      "cell_type": "code",
      "source": [],
      "metadata": {
        "id": "6aF8i_5DVcso"
      },
      "execution_count": null,
      "outputs": []
    }
  ]
}