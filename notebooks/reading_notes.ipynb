{
  "nbformat": 4,
  "nbformat_minor": 0,
  "metadata": {
    "colab": {
      "provenance": [],
      "authorship_tag": "ABX9TyPnaGrTaop3lKY9s5P0KI4M",
      "include_colab_link": true
    },
    "kernelspec": {
      "name": "python3",
      "display_name": "Python 3"
    },
    "language_info": {
      "name": "python"
    }
  },
  "cells": [
    {
      "cell_type": "markdown",
      "metadata": {
        "id": "view-in-github",
        "colab_type": "text"
      },
      "source": [
        "<a href=\"https://colab.research.google.com/github/mondo-lee/in2HEP/blob/master/notebooks/reading_notes.ipynb\" target=\"_parent\"><img src=\"https://colab.research.google.com/assets/colab-badge.svg\" alt=\"Open In Colab\"/></a>"
      ]
    },
    {
      "cell_type": "code",
      "execution_count": null,
      "metadata": {
        "id": "Eb95O-QsVXyY"
      },
      "outputs": [],
      "source": []
    },
    {
      "cell_type": "markdown",
      "source": [
        "# Notes\n",
        "\n",
        "## `08-03-2025`\n",
        "\n",
        "`ATLAS_Hbb_Challenge.ipynb`\n",
        "\n",
        "Though the Higgs predominantly decays to a bottom anti-bottom quark pair ($H\\rightarrow b\\bar{b}$), detection of this channel was made difficult by:\n",
        "- the large background from events such as $g\\rightarrow b\\bar{b}$, and\n",
        "- the extra complication of b-tagging jets.\n",
        "\n",
        "As such, the channels $H \\rightarrow \\gamma\\gamma$ and $H \\rightarrow ZZ \\rightarrow 4l$ were used instead, with clear signatures and an excess of events over background processes.\n",
        "\n",
        "The process that we will focus on is the WH 1-Lepton channel\n",
        "\n",
        "<img src=\"images/one-lepton.png\" width=\"350\">\n",
        "\n",
        "Throughout the challenge we aim to:\n",
        "- draw a non-NN benchmark using a series of cuts"
      ],
      "metadata": {
        "id": "z60sSU7uVY_Z"
      }
    },
    {
      "cell_type": "code",
      "source": [],
      "metadata": {
        "id": "6aF8i_5DVcso"
      },
      "execution_count": null,
      "outputs": []
    }
  ]
}